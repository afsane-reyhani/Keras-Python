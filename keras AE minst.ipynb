{
 "cells": [
  {
   "cell_type": "code",
   "execution_count": 1,
   "metadata": {},
   "outputs": [
    {
     "name": "stderr",
     "output_type": "stream",
     "text": [
      "C:\\Users\\User\\Anaconda3\\lib\\site-packages\\h5py\\__init__.py:36: FutureWarning: Conversion of the second argument of issubdtype from `float` to `np.floating` is deprecated. In future, it will be treated as `np.float64 == np.dtype(float).type`.\n",
      "  from ._conv import register_converters as _register_converters\n",
      "Using TensorFlow backend.\n"
     ]
    }
   ],
   "source": [
    "from keras import layers\n",
    "from keras.models import Model\n",
    "import numpy as np"
   ]
  },
  {
   "cell_type": "code",
   "execution_count": 2,
   "metadata": {},
   "outputs": [],
   "source": [
    "from keras.datasets import mnist"
   ]
  },
  {
   "cell_type": "code",
   "execution_count": 3,
   "metadata": {},
   "outputs": [],
   "source": [
    "(x_train,_),(x_test,_)=mnist.load_data(path='mnist.npz')"
   ]
  },
  {
   "cell_type": "code",
   "execution_count": 4,
   "metadata": {},
   "outputs": [],
   "source": [
    "x_train=x_train.astype('float32')/255\n",
    "x_test=x_test.astype('float32')/255"
   ]
  },
  {
   "cell_type": "code",
   "execution_count": 5,
   "metadata": {},
   "outputs": [
    {
     "name": "stdout",
     "output_type": "stream",
     "text": [
      "(60000, 784)\n",
      "(10000, 784)\n"
     ]
    }
   ],
   "source": [
    "x_train=x_train.reshape((len(x_train),np.prod(x_train.shape[1:])))\n",
    "x_test=x_test.reshape((len(x_test),np.prod(x_test.shape[1:])))\n",
    "print(x_train.shape)\n",
    "print(x_test.shape)"
   ]
  },
  {
   "cell_type": "code",
   "execution_count": 6,
   "metadata": {},
   "outputs": [],
   "source": [
    "encoding_dim=32\n",
    "input_img = layers.Input(shape=(784,))\n",
    "encoded = layers.Dense(encoding_dim,activation='relu')(input_img)\n",
    "decoded=layers.Dense(784,activation=\"sigmoid\")(encoded)\n",
    "autoencoder_Model=Model(input_img,decoded)"
   ]
  },
  {
   "cell_type": "code",
   "execution_count": 7,
   "metadata": {},
   "outputs": [],
   "source": [
    "encoder_Model=Model(input_img,encoded)"
   ]
  },
  {
   "cell_type": "code",
   "execution_count": 8,
   "metadata": {},
   "outputs": [],
   "source": [
    "encoded_input=layers.Input(shape=(encoding_dim,))\n",
    "decoder_layer=autoencoder_Model.layers[-1]\n",
    "decoder_Model=Model(encoded_input,decoder_layer(encoded_input))"
   ]
  },
  {
   "cell_type": "code",
   "execution_count": 9,
   "metadata": {},
   "outputs": [],
   "source": [
    "autoencoder_Model.compile(optimizer='adam',loss='binary_crossentropy')"
   ]
  },
  {
   "cell_type": "code",
   "execution_count": 10,
   "metadata": {},
   "outputs": [
    {
     "name": "stdout",
     "output_type": "stream",
     "text": [
      "Train on 60000 samples, validate on 10000 samples\n",
      "Epoch 1/100\n",
      "60000/60000 [==============================] - 5s 78us/step - loss: 0.2760 - val_loss: 0.1929\n",
      "Epoch 2/100\n",
      "60000/60000 [==============================] - 4s 69us/step - loss: 0.1726 - val_loss: 0.1538\n",
      "Epoch 3/100\n",
      "60000/60000 [==============================] - 4s 69us/step - loss: 0.1442 - val_loss: 0.1333\n",
      "Epoch 4/100\n",
      "60000/60000 [==============================] - 4s 74us/step - loss: 0.1281 - val_loss: 0.1207\n",
      "Epoch 5/100\n",
      "60000/60000 [==============================] - 4s 72us/step - loss: 0.1180 - val_loss: 0.1126\n",
      "Epoch 6/100\n",
      "60000/60000 [==============================] - 4s 70us/step - loss: 0.1110 - val_loss: 0.1069\n",
      "Epoch 7/100\n",
      "60000/60000 [==============================] - 4s 75us/step - loss: 0.1059 - val_loss: 0.1025\n",
      "Epoch 8/100\n",
      "60000/60000 [==============================] - 4s 73us/step - loss: 0.1022 - val_loss: 0.0993\n",
      "Epoch 9/100\n",
      "60000/60000 [==============================] - 4s 72us/step - loss: 0.0994 - val_loss: 0.0971\n",
      "Epoch 10/100\n",
      "60000/60000 [==============================] - 4s 70us/step - loss: 0.0975 - val_loss: 0.0955\n",
      "Epoch 11/100\n",
      "60000/60000 [==============================] - 4s 73us/step - loss: 0.0962 - val_loss: 0.0945\n",
      "Epoch 12/100\n",
      "60000/60000 [==============================] - 5s 84us/step - loss: 0.0954 - val_loss: 0.0937\n",
      "Epoch 13/100\n",
      "60000/60000 [==============================] - 5s 78us/step - loss: 0.0948 - val_loss: 0.0933\n",
      "Epoch 14/100\n",
      "60000/60000 [==============================] - 4s 75us/step - loss: 0.0944 - val_loss: 0.0930\n",
      "Epoch 15/100\n",
      "60000/60000 [==============================] - 5s 79us/step - loss: 0.0941 - val_loss: 0.0928\n",
      "Epoch 16/100\n",
      "60000/60000 [==============================] - 5s 77us/step - loss: 0.0939 - val_loss: 0.0925\n",
      "Epoch 17/100\n",
      "60000/60000 [==============================] - 5s 78us/step - loss: 0.0937 - val_loss: 0.0924\n",
      "Epoch 18/100\n",
      "60000/60000 [==============================] - 5s 81us/step - loss: 0.0936 - val_loss: 0.0923\n",
      "Epoch 19/100\n",
      "60000/60000 [==============================] - 5s 76us/step - loss: 0.0935 - val_loss: 0.0922\n",
      "Epoch 20/100\n",
      "60000/60000 [==============================] - 5s 78us/step - loss: 0.0934 - val_loss: 0.0921\n",
      "Epoch 21/100\n",
      "60000/60000 [==============================] - 5s 83us/step - loss: 0.0933 - val_loss: 0.0920\n",
      "Epoch 22/100\n",
      "60000/60000 [==============================] - 5s 77us/step - loss: 0.0932 - val_loss: 0.0919\n",
      "Epoch 23/100\n",
      "60000/60000 [==============================] - 5s 78us/step - loss: 0.0932 - val_loss: 0.0920\n",
      "Epoch 24/100\n",
      "60000/60000 [==============================] - 5s 78us/step - loss: 0.0931 - val_loss: 0.0918\n",
      "Epoch 25/100\n",
      "60000/60000 [==============================] - 5s 80us/step - loss: 0.0931 - val_loss: 0.0918\n",
      "Epoch 26/100\n",
      "60000/60000 [==============================] - 5s 78us/step - loss: 0.0930 - val_loss: 0.0918\n",
      "Epoch 27/100\n",
      "60000/60000 [==============================] - 5s 80us/step - loss: 0.0930 - val_loss: 0.0918\n",
      "Epoch 28/100\n",
      "60000/60000 [==============================] - 5s 82us/step - loss: 0.0930 - val_loss: 0.0917\n",
      "Epoch 29/100\n",
      "60000/60000 [==============================] - 5s 84us/step - loss: 0.0929 - val_loss: 0.0917\n",
      "Epoch 30/100\n",
      "60000/60000 [==============================] - 5s 76us/step - loss: 0.0929 - val_loss: 0.0917\n",
      "Epoch 31/100\n",
      "60000/60000 [==============================] - 5s 80us/step - loss: 0.0929 - val_loss: 0.0918\n",
      "Epoch 32/100\n",
      "60000/60000 [==============================] - 6s 94us/step - loss: 0.0929 - val_loss: 0.0916\n",
      "Epoch 33/100\n",
      "60000/60000 [==============================] - 5s 82us/step - loss: 0.0928 - val_loss: 0.0916\n",
      "Epoch 34/100\n",
      "60000/60000 [==============================] - 5s 83us/step - loss: 0.0928 - val_loss: 0.0916\n",
      "Epoch 35/100\n",
      "60000/60000 [==============================] - 5s 79us/step - loss: 0.0928 - val_loss: 0.0917\n",
      "Epoch 36/100\n",
      "60000/60000 [==============================] - 5s 78us/step - loss: 0.0928 - val_loss: 0.0916\n",
      "Epoch 37/100\n",
      "60000/60000 [==============================] - 5s 75us/step - loss: 0.0927 - val_loss: 0.0916\n",
      "Epoch 38/100\n",
      "60000/60000 [==============================] - 5s 79us/step - loss: 0.0927 - val_loss: 0.0915\n",
      "Epoch 39/100\n",
      "60000/60000 [==============================] - 5s 80us/step - loss: 0.0927 - val_loss: 0.0916\n",
      "Epoch 40/100\n",
      "60000/60000 [==============================] - 5s 78us/step - loss: 0.0927 - val_loss: 0.0915\n",
      "Epoch 41/100\n",
      "60000/60000 [==============================] - 5s 75us/step - loss: 0.0927 - val_loss: 0.0915\n",
      "Epoch 42/100\n",
      "60000/60000 [==============================] - 4s 75us/step - loss: 0.0927 - val_loss: 0.0916\n",
      "Epoch 43/100\n",
      "60000/60000 [==============================] - 5s 81us/step - loss: 0.0927 - val_loss: 0.0915\n",
      "Epoch 44/100\n",
      "60000/60000 [==============================] - 5s 77us/step - loss: 0.0927 - val_loss: 0.0915\n",
      "Epoch 45/100\n",
      "60000/60000 [==============================] - 5s 78us/step - loss: 0.0926 - val_loss: 0.0915\n",
      "Epoch 46/100\n",
      "60000/60000 [==============================] - 5s 80us/step - loss: 0.0926 - val_loss: 0.0915\n",
      "Epoch 47/100\n",
      "60000/60000 [==============================] - 5s 80us/step - loss: 0.0926 - val_loss: 0.0914\n",
      "Epoch 48/100\n",
      "60000/60000 [==============================] - 5s 78us/step - loss: 0.0926 - val_loss: 0.0914\n",
      "Epoch 49/100\n",
      "60000/60000 [==============================] - 5s 79us/step - loss: 0.0926 - val_loss: 0.0915\n",
      "Epoch 50/100\n",
      "60000/60000 [==============================] - 5s 90us/step - loss: 0.0926 - val_loss: 0.0914\n",
      "Epoch 51/100\n",
      "60000/60000 [==============================] - 5s 76us/step - loss: 0.0926 - val_loss: 0.0914\n",
      "Epoch 52/100\n",
      "60000/60000 [==============================] - 5s 78us/step - loss: 0.0926 - val_loss: 0.0914\n",
      "Epoch 53/100\n",
      "60000/60000 [==============================] - 5s 80us/step - loss: 0.0926 - val_loss: 0.0914\n",
      "Epoch 54/100\n",
      "60000/60000 [==============================] - 5s 77us/step - loss: 0.0926 - val_loss: 0.0914\n",
      "Epoch 55/100\n",
      "60000/60000 [==============================] - 4s 74us/step - loss: 0.0925 - val_loss: 0.0914\n",
      "Epoch 56/100\n",
      "60000/60000 [==============================] - 5s 77us/step - loss: 0.0925 - val_loss: 0.0914\n",
      "Epoch 57/100\n",
      "60000/60000 [==============================] - 4s 74us/step - loss: 0.0925 - val_loss: 0.0914\n",
      "Epoch 58/100\n",
      "60000/60000 [==============================] - 5s 77us/step - loss: 0.0925 - val_loss: 0.0914\n",
      "Epoch 59/100\n",
      "60000/60000 [==============================] - 5s 77us/step - loss: 0.0925 - val_loss: 0.0913\n",
      "Epoch 60/100\n",
      "60000/60000 [==============================] - 4s 75us/step - loss: 0.0925 - val_loss: 0.0914\n",
      "Epoch 61/100\n",
      "60000/60000 [==============================] - 5s 75us/step - loss: 0.0925 - val_loss: 0.0914\n",
      "Epoch 62/100\n",
      "60000/60000 [==============================] - 5s 76us/step - loss: 0.0925 - val_loss: 0.0914\n",
      "Epoch 63/100\n",
      "60000/60000 [==============================] - 4s 75us/step - loss: 0.0925 - val_loss: 0.0914\n",
      "Epoch 64/100\n",
      "60000/60000 [==============================] - 4s 74us/step - loss: 0.0925 - val_loss: 0.0915\n",
      "Epoch 65/100\n",
      "60000/60000 [==============================] - 4s 74us/step - loss: 0.0925 - val_loss: 0.0914\n",
      "Epoch 66/100\n",
      "60000/60000 [==============================] - 5s 88us/step - loss: 0.0925 - val_loss: 0.0913\n",
      "Epoch 67/100\n",
      "60000/60000 [==============================] - 5s 84us/step - loss: 0.0925 - val_loss: 0.0914\n",
      "Epoch 68/100\n",
      "60000/60000 [==============================] - 5s 89us/step - loss: 0.0925 - val_loss: 0.0913\n",
      "Epoch 69/100\n",
      "60000/60000 [==============================] - 5s 87us/step - loss: 0.0925 - val_loss: 0.0914\n",
      "Epoch 70/100\n",
      "60000/60000 [==============================] - 5s 83us/step - loss: 0.0925 - val_loss: 0.0914\n",
      "Epoch 71/100\n",
      "60000/60000 [==============================] - 5s 85us/step - loss: 0.0924 - val_loss: 0.0914\n",
      "Epoch 72/100\n",
      "60000/60000 [==============================] - 5s 86us/step - loss: 0.0924 - val_loss: 0.0913\n",
      "Epoch 73/100\n",
      "60000/60000 [==============================] - 5s 84us/step - loss: 0.0924 - val_loss: 0.0914\n",
      "Epoch 74/100\n",
      "60000/60000 [==============================] - 5s 87us/step - loss: 0.0924 - val_loss: 0.0914\n",
      "Epoch 75/100\n",
      "60000/60000 [==============================] - 5s 85us/step - loss: 0.0924 - val_loss: 0.0913\n",
      "Epoch 76/100\n",
      "60000/60000 [==============================] - 5s 85us/step - loss: 0.0924 - val_loss: 0.0913\n",
      "Epoch 77/100\n"
     ]
    },
    {
     "name": "stdout",
     "output_type": "stream",
     "text": [
      "60000/60000 [==============================] - 5s 78us/step - loss: 0.0924 - val_loss: 0.0915\n",
      "Epoch 78/100\n",
      "60000/60000 [==============================] - 5s 78us/step - loss: 0.0924 - val_loss: 0.0913\n",
      "Epoch 79/100\n",
      "60000/60000 [==============================] - 5s 76us/step - loss: 0.0924 - val_loss: 0.0913\n",
      "Epoch 80/100\n",
      "60000/60000 [==============================] - 5s 75us/step - loss: 0.0924 - val_loss: 0.0913\n",
      "Epoch 81/100\n",
      "60000/60000 [==============================] - 5s 77us/step - loss: 0.0924 - val_loss: 0.0913\n",
      "Epoch 82/100\n",
      "60000/60000 [==============================] - 5s 83us/step - loss: 0.0924 - val_loss: 0.0913\n",
      "Epoch 83/100\n",
      "60000/60000 [==============================] - 5s 82us/step - loss: 0.0924 - val_loss: 0.0913\n",
      "Epoch 84/100\n",
      "60000/60000 [==============================] - 5s 88us/step - loss: 0.0924 - val_loss: 0.0913\n",
      "Epoch 85/100\n",
      "60000/60000 [==============================] - 5s 81us/step - loss: 0.0924 - val_loss: 0.0913\n",
      "Epoch 86/100\n",
      "60000/60000 [==============================] - 5s 79us/step - loss: 0.0924 - val_loss: 0.0913\n",
      "Epoch 87/100\n",
      "60000/60000 [==============================] - 5s 84us/step - loss: 0.0924 - val_loss: 0.0913\n",
      "Epoch 88/100\n",
      "60000/60000 [==============================] - 5s 80us/step - loss: 0.0924 - val_loss: 0.0913\n",
      "Epoch 89/100\n",
      "60000/60000 [==============================] - 5s 86us/step - loss: 0.0924 - val_loss: 0.0913\n",
      "Epoch 90/100\n",
      "60000/60000 [==============================] - 5s 81us/step - loss: 0.0923 - val_loss: 0.0914\n",
      "Epoch 91/100\n",
      "60000/60000 [==============================] - 5s 77us/step - loss: 0.0923 - val_loss: 0.0913\n",
      "Epoch 92/100\n",
      "60000/60000 [==============================] - 5s 79us/step - loss: 0.0923 - val_loss: 0.0914\n",
      "Epoch 93/100\n",
      "60000/60000 [==============================] - 5s 80us/step - loss: 0.0923 - val_loss: 0.0913\n",
      "Epoch 94/100\n",
      "60000/60000 [==============================] - 5s 77us/step - loss: 0.0923 - val_loss: 0.0913\n",
      "Epoch 95/100\n",
      "60000/60000 [==============================] - 5s 79us/step - loss: 0.0923 - val_loss: 0.0912\n",
      "Epoch 96/100\n",
      "60000/60000 [==============================] - 5s 80us/step - loss: 0.0923 - val_loss: 0.0912\n",
      "Epoch 97/100\n",
      "60000/60000 [==============================] - 5s 80us/step - loss: 0.0923 - val_loss: 0.0912\n",
      "Epoch 98/100\n",
      "60000/60000 [==============================] - 5s 78us/step - loss: 0.0923 - val_loss: 0.0912\n",
      "Epoch 99/100\n",
      "60000/60000 [==============================] - 5s 83us/step - loss: 0.0923 - val_loss: 0.0912\n",
      "Epoch 100/100\n",
      "60000/60000 [==============================] - 5s 79us/step - loss: 0.0923 - val_loss: 0.0912\n"
     ]
    },
    {
     "data": {
      "text/plain": [
       "<keras.callbacks.History at 0x54e3390>"
      ]
     },
     "execution_count": 10,
     "metadata": {},
     "output_type": "execute_result"
    }
   ],
   "source": [
    "n_epochs=100\n",
    "autoencoder_Model.fit(x_train,x_train,epochs=n_epochs,batch_size=256,shuffle=True,validation_data=(x_test,x_test))"
   ]
  },
  {
   "cell_type": "code",
   "execution_count": 11,
   "metadata": {},
   "outputs": [],
   "source": [
    "encoded_imgs=encoder_Model.predict(x_test)\n",
    "decoded_imgs=decoder_Model.predict(encoded_imgs)"
   ]
  },
  {
   "cell_type": "code",
   "execution_count": 12,
   "metadata": {},
   "outputs": [],
   "source": [
    "import matplotlib.pyplot as plt"
   ]
  },
  {
   "cell_type": "code",
   "execution_count": 26,
   "metadata": {},
   "outputs": [
    {
     "data": {
      "image/png": "[encoded data removed]",
      "text/plain": [
       "<Figure size 1440x288 with 20 Axes>"
      ]
     },
     "metadata": {},
     "output_type": "display_data"
    }
   ],
   "source": [
    "n=10\n",
    "plt.figure(figsize=(20,4))\n",
    "for i in range(n):\n",
    "    ax = plt.subplot(2,n,i+1)\n",
    "    plt.imshow(x_test[i].reshape(28,28))\n",
    "    plt.gray()\n",
    "    ax.get_xaxis().set_visible(False)\n",
    "    ax.get_yaxis().set_visible(False)\n",
    "    \n",
    "    \n",
    "    ax=plt.subplot(2,n,i+1+n)\n",
    "    plt.imshow(decoded_imgs[i].reshape(28,28))\n",
    "    plt.gray()\n",
    "    ax.get_xaxis().set_visible(False)\n",
    "    ax.get_yaxis().set_visible(False)\n",
    "    \n",
    "plt.show()\n",
    "    "
   ]
  },
  {
   "cell_type": "code",
   "execution_count": null,
   "metadata": {},
   "outputs": [],
   "source": []
  },
  {
   "cell_type": "code",
   "execution_count": null,
   "metadata": {},
   "outputs": [],
   "source": []
  },
  {
   "cell_type": "code",
   "execution_count": null,
   "metadata": {},
   "outputs": [],
   "source": []
  },
  {
   "cell_type": "code",
   "execution_count": null,
   "metadata": {},
   "outputs": [],
   "source": []
  },
  {
   "cell_type": "code",
   "execution_count": null,
   "metadata": {},
   "outputs": [],
   "source": []
  },
  {
   "cell_type": "code",
   "execution_count": null,
   "metadata": {},
   "outputs": [],
   "source": []
  },
  {
   "cell_type": "code",
   "execution_count": null,
   "metadata": {},
   "outputs": [],
   "source": []
  },
  {
   "cell_type": "code",
   "execution_count": null,
   "metadata": {},
   "outputs": [],
   "source": []
  },
  {
   "cell_type": "code",
   "execution_count": null,
   "metadata": {},
   "outputs": [],
   "source": []
  }
 ],
 "metadata": {
  "kernelspec": {
   "display_name": "Python 3",
   "language": "python",
   "name": "python3"
  },
  "language_info": {
   "codemirror_mode": {
    "name": "ipython",
    "version": 3
   },
   "file_extension": ".py",
   "mimetype": "text/x-python",
   "name": "python",
   "nbconvert_exporter": "python",
   "pygments_lexer": "ipython3",
   "version": "3.6.5"
  }
 },
 "nbformat": 4,
 "nbformat_minor": 2
}
