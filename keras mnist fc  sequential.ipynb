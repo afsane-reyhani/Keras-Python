{
 "cells": [
  {
   "cell_type": "code",
   "execution_count": 1,
   "metadata": {},
   "outputs": [
    {
     "name": "stderr",
     "output_type": "stream",
     "text": [
      "C:\\Users\\User\\Anaconda3\\lib\\site-packages\\h5py\\__init__.py:36: FutureWarning: Conversion of the second argument of issubdtype from `float` to `np.floating` is deprecated. In future, it will be treated as `np.float64 == np.dtype(float).type`.\n",
      "  from ._conv import register_converters as _register_converters\n",
      "Using TensorFlow backend.\n"
     ]
    }
   ],
   "source": [
    "import keras"
   ]
  },
  {
   "cell_type": "code",
   "execution_count": 2,
   "metadata": {},
   "outputs": [],
   "source": [
    "from keras.datasets import mnist\n",
    "mnist.load_data()\n",
    "(train_images,train_labels),(test_images,test_labels) = mnist.load_data()"
   ]
  },
  {
   "cell_type": "code",
   "execution_count": 3,
   "metadata": {},
   "outputs": [
    {
     "name": "stdout",
     "output_type": "stream",
     "text": [
      "train_images dimentions: 3\n",
      "train_images shape : (60000, 28, 28)\n",
      "train_images type: uint8\n"
     ]
    }
   ],
   "source": [
    "print('train_images dimentions:',train_images.ndim)\n",
    "print('train_images shape :',train_images.shape)\n",
    "print('train_images type:',train_images.dtype)"
   ]
  },
  {
   "cell_type": "code",
   "execution_count": 4,
   "metadata": {},
   "outputs": [],
   "source": [
    "x_train=train_images.reshape(60000,784)"
   ]
  },
  {
   "cell_type": "code",
   "execution_count": 5,
   "metadata": {},
   "outputs": [],
   "source": [
    "x_test=test_images.reshape(10000,784)"
   ]
  },
  {
   "cell_type": "code",
   "execution_count": 6,
   "metadata": {},
   "outputs": [],
   "source": [
    "x_train = x_train.astype('float32')\n",
    "x_test = x_test.astype('float32')"
   ]
  },
  {
   "cell_type": "code",
   "execution_count": 7,
   "metadata": {},
   "outputs": [],
   "source": [
    "x_train/=255\n",
    "x_test/=255"
   ]
  },
  {
   "cell_type": "code",
   "execution_count": 8,
   "metadata": {},
   "outputs": [],
   "source": [
    "from keras.utils import np_utils"
   ]
  },
  {
   "cell_type": "code",
   "execution_count": 9,
   "metadata": {},
   "outputs": [],
   "source": [
    "y_train = np_utils.to_categorical(train_labels)\n",
    "y_test = np_utils.to_categorical(test_labels)"
   ]
  },
  {
   "cell_type": "markdown",
   "metadata": {},
   "source": [
    "# creatin our model"
   ]
  },
  {
   "cell_type": "code",
   "execution_count": 10,
   "metadata": {},
   "outputs": [],
   "source": [
    "from keras.models import Sequential\n",
    "from keras.layers import Dense\n",
    "from keras.activations import relu\n",
    "from keras.optimizers import SGD\n",
    "from keras.losses import categorical_crossentropy"
   ]
  },
  {
   "cell_type": "code",
   "execution_count": 11,
   "metadata": {},
   "outputs": [],
   "source": [
    "myModel = Sequential()\n",
    "myModel.add(Dense(500,activation=relu,input_shape=(784,)))\n",
    "myModel.add(Dense(100,activation=relu))\n",
    "myModel.add(Dense(10,activation='softmax'))"
   ]
  },
  {
   "cell_type": "code",
   "execution_count": 12,
   "metadata": {},
   "outputs": [
    {
     "name": "stdout",
     "output_type": "stream",
     "text": [
      "_________________________________________________________________\n",
      "Layer (type)                 Output Shape              Param #   \n",
      "=================================================================\n",
      "dense_1 (Dense)              (None, 500)               392500    \n",
      "_________________________________________________________________\n",
      "dense_2 (Dense)              (None, 100)               50100     \n",
      "_________________________________________________________________\n",
      "dense_3 (Dense)              (None, 10)                1010      \n",
      "=================================================================\n",
      "Total params: 443,610\n",
      "Trainable params: 443,610\n",
      "Non-trainable params: 0\n",
      "_________________________________________________________________\n"
     ]
    }
   ],
   "source": [
    "myModel.summary()"
   ]
  },
  {
   "cell_type": "code",
   "execution_count": 13,
   "metadata": {},
   "outputs": [],
   "source": [
    "myModel.compile(optimizer=SGD(lr=0.001),loss=categorical_crossentropy,metrics=['accuracy'])"
   ]
  },
  {
   "cell_type": "markdown",
   "metadata": {},
   "source": [
    "# train our model"
   ]
  },
  {
   "cell_type": "code",
   "execution_count": 14,
   "metadata": {},
   "outputs": [
    {
     "name": "stdout",
     "output_type": "stream",
     "text": [
      "Epoch 1/2\n",
      "60000/60000 [==============================] - 8s 135us/step - loss: 2.1750 - acc: 0.2225\n",
      "Epoch 2/2\n",
      "60000/60000 [==============================] - 5s 89us/step - loss: 1.8196 - acc: 0.5408\n"
     ]
    }
   ],
   "source": [
    "network_history=myModel.fit(x_train,y_train,batch_size=128,epochs=2)"
   ]
  },
  {
   "cell_type": "code",
   "execution_count": 15,
   "metadata": {},
   "outputs": [
    {
     "name": "stdout",
     "output_type": "stream",
     "text": [
      "Epoch 1/20\n",
      "60000/60000 [==============================] - 6s 95us/step - loss: 1.4786 - acc: 0.7238\n",
      "Epoch 2/20\n",
      "60000/60000 [==============================] - 5s 89us/step - loss: 1.1859 - acc: 0.7854\n",
      "Epoch 3/20\n",
      "60000/60000 [==============================] - 5s 92us/step - loss: 0.9724 - acc: 0.8129\n",
      "Epoch 4/20\n",
      "60000/60000 [==============================] - 6s 92us/step - loss: 0.8283 - acc: 0.8286\n",
      "Epoch 5/20\n",
      "60000/60000 [==============================] - 6s 93us/step - loss: 0.7293 - acc: 0.8405\n",
      "Epoch 6/20\n",
      "60000/60000 [==============================] - 6s 96us/step - loss: 0.6584 - acc: 0.8494\n",
      "Epoch 7/20\n",
      "60000/60000 [==============================] - 6s 93us/step - loss: 0.6054 - acc: 0.8574\n",
      "Epoch 8/20\n",
      "60000/60000 [==============================] - 5s 89us/step - loss: 0.5642 - acc: 0.8638\n",
      "Epoch 9/20\n",
      "60000/60000 [==============================] - 6s 93us/step - loss: 0.5314 - acc: 0.8688\n",
      "Epoch 10/20\n",
      "60000/60000 [==============================] - 5s 91us/step - loss: 0.5045 - acc: 0.8734\n",
      "Epoch 11/20\n",
      "60000/60000 [==============================] - 6s 94us/step - loss: 0.4822 - acc: 0.8782\n",
      "Epoch 12/20\n",
      "60000/60000 [==============================] - 6s 93us/step - loss: 0.4632 - acc: 0.8819\n",
      "Epoch 13/20\n",
      "60000/60000 [==============================] - 5s 91us/step - loss: 0.4469 - acc: 0.8848\n",
      "Epoch 14/20\n",
      "60000/60000 [==============================] - 6s 97us/step - loss: 0.4328 - acc: 0.8872\n",
      "Epoch 15/20\n",
      "60000/60000 [==============================] - 6s 92us/step - loss: 0.4203 - acc: 0.8894\n",
      "Epoch 16/20\n",
      "60000/60000 [==============================] - 6s 96us/step - loss: 0.4093 - acc: 0.8916\n",
      "Epoch 17/20\n",
      "60000/60000 [==============================] - 6s 92us/step - loss: 0.3995 - acc: 0.8935\n",
      "Epoch 18/20\n",
      "60000/60000 [==============================] - 6s 92us/step - loss: 0.3905 - acc: 0.8955\n",
      "Epoch 19/20\n",
      "60000/60000 [==============================] - 6s 107us/step - loss: 0.3825 - acc: 0.8969\n",
      "Epoch 20/20\n",
      "60000/60000 [==============================] - 6s 92us/step - loss: 0.3751 - acc: 0.8984: \n"
     ]
    }
   ],
   "source": [
    "network_history=myModel.fit(x_train,y_train,batch_size=128,epochs=20)"
   ]
  },
  {
   "cell_type": "code",
   "execution_count": 16,
   "metadata": {},
   "outputs": [
    {
     "data": {
      "text/plain": [
       "keras.callbacks.History"
      ]
     },
     "execution_count": 16,
     "metadata": {},
     "output_type": "execute_result"
    }
   ],
   "source": [
    "type(network_history)"
   ]
  },
  {
   "cell_type": "code",
   "execution_count": 17,
   "metadata": {},
   "outputs": [],
   "source": [
    "history=network_history.history"
   ]
  },
  {
   "cell_type": "code",
   "execution_count": 18,
   "metadata": {},
   "outputs": [
    {
     "data": {
      "text/plain": [
       "dict"
      ]
     },
     "execution_count": 18,
     "metadata": {},
     "output_type": "execute_result"
    }
   ],
   "source": [
    "type(history)"
   ]
  },
  {
   "cell_type": "code",
   "execution_count": 19,
   "metadata": {},
   "outputs": [
    {
     "data": {
      "text/plain": [
       "dict_keys(['loss', 'acc'])"
      ]
     },
     "execution_count": 19,
     "metadata": {},
     "output_type": "execute_result"
    }
   ],
   "source": [
    "history.keys()"
   ]
  },
  {
   "cell_type": "code",
   "execution_count": 22,
   "metadata": {},
   "outputs": [
    {
     "data": {
      "text/plain": [
       "[<matplotlib.lines.Line2D at 0x208a68d0>]"
      ]
     },
     "execution_count": 22,
     "metadata": {},
     "output_type": "execute_result"
    },
    {
     "data": {
      "image/png": "[encoded data removed]",
      "text/plain": [
       "<Figure size 432x288 with 1 Axes>"
      ]
     },
     "metadata": {},
     "output_type": "display_data"
    },
    {
     "data": {
      "image/png": "[encoded data removed]",
      "text/plain": [
       "<Figure size 432x288 with 1 Axes>"
      ]
     },
     "metadata": {},
     "output_type": "display_data"
    }
   ],
   "source": [
    "import matplotlib.pyplot as plt\n",
    "losses = history['loss']\n",
    "accuracies=history['acc']\n",
    "plt.xlabel('Epochs')\n",
    "plt.ylabel('Loss')\n",
    "plt.plot(losses)\n",
    "\n",
    "plt.figure()\n",
    "\n",
    "\n",
    "plt.xlabel('Epochs')\n",
    "plt.ylabel('Accuracy')\n",
    "plt.plot(accuracies)"
   ]
  },
  {
   "cell_type": "code",
   "execution_count": 28,
   "metadata": {},
   "outputs": [],
   "source": [
    "def plot_history1(net_history):\n",
    "    history=net_history.history\n",
    "    import matplotlib.pyplot as plt\n",
    "    losses = history['loss']\n",
    "    accuracies=history['acc']\n",
    "    plt.xlabel('Epochs')\n",
    "    plt.ylabel('Loss')\n",
    "    plt.plot(losses)\n",
    "\n",
    "    plt.figure()\n",
    "\n",
    "\n",
    "    plt.xlabel('Epochs')\n",
    "    plt.ylabel('Accuracy')\n",
    "    plt.plot(accuracies)"
   ]
  },
  {
   "cell_type": "code",
   "execution_count": 30,
   "metadata": {},
   "outputs": [
    {
     "data": {
      "image/png": "[encoded data removed]",
      "text/plain": [
       "<Figure size 432x288 with 1 Axes>"
      ]
     },
     "metadata": {},
     "output_type": "display_data"
    },
    {
     "data": {
      "image/png": "[encoded data removed]",
      "text/plain": [
       "<Figure size 432x288 with 1 Axes>"
      ]
     },
     "metadata": {},
     "output_type": "display_data"
    }
   ],
   "source": [
    "plot_history1(network_history)"
   ]
  },
  {
   "cell_type": "markdown",
   "metadata": {},
   "source": [
    "# validation"
   ]
  },
  {
   "cell_type": "code",
   "execution_count": 31,
   "metadata": {},
   "outputs": [
    {
     "name": "stdout",
     "output_type": "stream",
     "text": [
      "Train on 48000 samples, validate on 12000 samples\n",
      "Epoch 1/20\n",
      "48000/48000 [==============================] - 4s 89us/step - loss: 0.3747 - acc: 0.8977 - val_loss: 0.3438 - val_acc: 0.9077\n",
      "Epoch 2/20\n",
      "48000/48000 [==============================] - 4s 88us/step - loss: 0.3694 - acc: 0.8992 - val_loss: 0.3395 - val_acc: 0.9083\n",
      "Epoch 3/20\n",
      "48000/48000 [==============================] - 4s 89us/step - loss: 0.3645 - acc: 0.8997 - val_loss: 0.3352 - val_acc: 0.9099\n",
      "Epoch 4/20\n",
      "48000/48000 [==============================] - 4s 91us/step - loss: 0.3599 - acc: 0.9009 - val_loss: 0.3313 - val_acc: 0.9110\n",
      "Epoch 5/20\n",
      "48000/48000 [==============================] - 5s 103us/step - loss: 0.3554 - acc: 0.9017 - val_loss: 0.3277 - val_acc: 0.9102\n",
      "Epoch 6/20\n",
      "48000/48000 [==============================] - 4s 88us/step - loss: 0.3513 - acc: 0.9027 - val_loss: 0.3243 - val_acc: 0.9112\n",
      "Epoch 7/20\n",
      "48000/48000 [==============================] - 4s 85us/step - loss: 0.3474 - acc: 0.9038 - val_loss: 0.3208 - val_acc: 0.9125\n",
      "Epoch 8/20\n",
      "48000/48000 [==============================] - 5s 98us/step - loss: 0.3435 - acc: 0.9046 - val_loss: 0.3177 - val_acc: 0.9124\n",
      "Epoch 9/20\n",
      "48000/48000 [==============================] - 4s 93us/step - loss: 0.3400 - acc: 0.9060 - val_loss: 0.3146 - val_acc: 0.9123\n",
      "Epoch 10/20\n",
      "48000/48000 [==============================] - 5s 103us/step - loss: 0.3365 - acc: 0.9064 - val_loss: 0.3118 - val_acc: 0.9131\n",
      "Epoch 11/20\n",
      "48000/48000 [==============================] - 5s 104us/step - loss: 0.3332 - acc: 0.9072 - val_loss: 0.3089 - val_acc: 0.9133\n",
      "Epoch 12/20\n",
      "48000/48000 [==============================] - 5s 106us/step - loss: 0.3301 - acc: 0.9082 - val_loss: 0.3061 - val_acc: 0.9145\n",
      "Epoch 13/20\n",
      "48000/48000 [==============================] - 5s 106us/step - loss: 0.3270 - acc: 0.9085 - val_loss: 0.3038 - val_acc: 0.9149\n",
      "Epoch 14/20\n",
      "48000/48000 [==============================] - 5s 102us/step - loss: 0.3241 - acc: 0.9093 - val_loss: 0.3011 - val_acc: 0.9147\n",
      "Epoch 15/20\n",
      "48000/48000 [==============================] - 5s 108us/step - loss: 0.3213 - acc: 0.9103 - val_loss: 0.2986 - val_acc: 0.9152\n",
      "Epoch 16/20\n",
      "48000/48000 [==============================] - 5s 113us/step - loss: 0.3185 - acc: 0.9109 - val_loss: 0.2963 - val_acc: 0.9153\n",
      "Epoch 17/20\n",
      "48000/48000 [==============================] - 5s 112us/step - loss: 0.3158 - acc: 0.9115 - val_loss: 0.2941 - val_acc: 0.9165\n",
      "Epoch 18/20\n",
      "48000/48000 [==============================] - 5s 102us/step - loss: 0.3133 - acc: 0.9121 - val_loss: 0.2919 - val_acc: 0.9173\n",
      "Epoch 19/20\n",
      "48000/48000 [==============================] - 5s 107us/step - loss: 0.3108 - acc: 0.9133 - val_loss: 0.2898 - val_acc: 0.9177\n",
      "Epoch 20/20\n",
      "48000/48000 [==============================] - 5s 106us/step - loss: 0.3084 - acc: 0.9135 - val_loss: 0.2877 - val_acc: 0.9179\n"
     ]
    }
   ],
   "source": [
    "network_history=myModel.fit(x_train,y_train,batch_size=128,epochs=20,validation_split=0.2)"
   ]
  },
  {
   "cell_type": "code",
   "execution_count": 32,
   "metadata": {},
   "outputs": [],
   "source": [
    "history=network_history.history"
   ]
  },
  {
   "cell_type": "code",
   "execution_count": 33,
   "metadata": {},
   "outputs": [
    {
     "data": {
      "text/plain": [
       "dict_keys(['val_loss', 'val_acc', 'loss', 'acc'])"
      ]
     },
     "execution_count": 33,
     "metadata": {},
     "output_type": "execute_result"
    }
   ],
   "source": [
    "history.keys()"
   ]
  },
  {
   "cell_type": "code",
   "execution_count": 35,
   "metadata": {},
   "outputs": [],
   "source": [
    "def plot_history2(net_history):\n",
    "    history=net_history.history\n",
    "    import matplotlib.pyplot as plt\n",
    "    losses = history['loss']\n",
    "    val_losses = history['val_loss']\n",
    "    accuracies=history['acc']\n",
    "    val_accuracies=history['val_acc']\n",
    "    plt.xlabel('Epochs')\n",
    "    plt.ylabel('Loss')\n",
    "    plt.plot(losses)\n",
    "    plt.plot(val_losses)\n",
    "    plt.legend(['loss','val_loss'])\n",
    "\n",
    "    plt.figure()\n",
    "\n",
    "\n",
    "    plt.xlabel('Epochs')\n",
    "    plt.ylabel('Accuracy')\n",
    "    plt.plot(accuracies)\n",
    "    plt.plot(val_accuracies)\n",
    "    plt.legend(['acc','val_acc'])"
   ]
  },
  {
   "cell_type": "code",
   "execution_count": 36,
   "metadata": {},
   "outputs": [
    {
     "data": {
      "image/png": "[encoded data removed]",
      "text/plain": [
       "<Figure size 432x288 with 1 Axes>"
      ]
     },
     "metadata": {},
     "output_type": "display_data"
    },
    {
     "data": {
      "image/png": "[encoded data removed]",
      "text/plain": [
       "<Figure size 432x288 with 1 Axes>"
      ]
     },
     "metadata": {},
     "output_type": "display_data"
    }
   ],
   "source": [
    "plot_history2(network_history)"
   ]
  },
  {
   "cell_type": "markdown",
   "metadata": {},
   "source": [
    "# dropout"
   ]
  },
  {
   "cell_type": "code",
   "execution_count": 37,
   "metadata": {},
   "outputs": [],
   "source": [
    "from keras.models import Sequential\n",
    "from keras.layers import Dense,Dropout\n",
    "from keras.activations import relu\n",
    "from keras.optimizers import SGD\n",
    "from keras.losses import categorical_crossentropy"
   ]
  },
  {
   "cell_type": "code",
   "execution_count": 38,
   "metadata": {},
   "outputs": [],
   "source": [
    "myModel = Sequential()\n",
    "myModel.add(Dense(500,activation=relu,input_shape=(784,)))\n",
    "myModel.add(Dropout(0.2))\n",
    "myModel.add(Dense(100,activation=relu))\n",
    "myModel.add(Dropout(0.2))\n",
    "myModel.add(Dense(10,activation='softmax'))"
   ]
  },
  {
   "cell_type": "code",
   "execution_count": 39,
   "metadata": {},
   "outputs": [
    {
     "name": "stdout",
     "output_type": "stream",
     "text": [
      "_________________________________________________________________\n",
      "Layer (type)                 Output Shape              Param #   \n",
      "=================================================================\n",
      "dense_4 (Dense)              (None, 500)               392500    \n",
      "_________________________________________________________________\n",
      "dropout_1 (Dropout)          (None, 500)               0         \n",
      "_________________________________________________________________\n",
      "dense_5 (Dense)              (None, 100)               50100     \n",
      "_________________________________________________________________\n",
      "dropout_2 (Dropout)          (None, 100)               0         \n",
      "_________________________________________________________________\n",
      "dense_6 (Dense)              (None, 10)                1010      \n",
      "=================================================================\n",
      "Total params: 443,610\n",
      "Trainable params: 443,610\n",
      "Non-trainable params: 0\n",
      "_________________________________________________________________\n"
     ]
    }
   ],
   "source": [
    "myModel.summary()"
   ]
  },
  {
   "cell_type": "code",
   "execution_count": 40,
   "metadata": {},
   "outputs": [],
   "source": [
    "myModel.compile(optimizer=SGD(lr=0.001),loss=categorical_crossentropy,metrics=['accuracy'])"
   ]
  },
  {
   "cell_type": "code",
   "execution_count": 41,
   "metadata": {},
   "outputs": [
    {
     "name": "stdout",
     "output_type": "stream",
     "text": [
      "Train on 48000 samples, validate on 12000 samples\n",
      "Epoch 1/20\n",
      "48000/48000 [==============================] - 5s 109us/step - loss: 2.2202 - acc: 0.2044 - val_loss: 2.0586 - val_acc: 0.4484\n",
      "Epoch 2/20\n",
      "48000/48000 [==============================] - 5s 98us/step - loss: 1.9938 - acc: 0.3989 - val_loss: 1.8184 - val_acc: 0.6153\n",
      "Epoch 3/20\n",
      "48000/48000 [==============================] - 5s 98us/step - loss: 1.7708 - acc: 0.5296 - val_loss: 1.5710 - val_acc: 0.7080\n",
      "Epoch 4/20\n",
      "48000/48000 [==============================] - 5s 100us/step - loss: 1.5535 - acc: 0.6093 - val_loss: 1.3390 - val_acc: 0.7678\n",
      "Epoch 5/20\n",
      "48000/48000 [==============================] - 5s 98us/step - loss: 1.3613 - acc: 0.6604 - val_loss: 1.1419 - val_acc: 0.8021\n",
      "Epoch 6/20\n",
      "48000/48000 [==============================] - 5s 99us/step - loss: 1.2009 - acc: 0.6967 - val_loss: 0.9852 - val_acc: 0.8233\n",
      "Epoch 7/20\n",
      "48000/48000 [==============================] - 5s 101us/step - loss: 1.0728 - acc: 0.7238 - val_loss: 0.8645 - val_acc: 0.8378\n",
      "Epoch 8/20\n",
      "48000/48000 [==============================] - 5s 99us/step - loss: 0.9754 - acc: 0.7404 - val_loss: 0.7728 - val_acc: 0.8490\n",
      "Epoch 9/20\n",
      "48000/48000 [==============================] - 5s 105us/step - loss: 0.9014 - acc: 0.7566 - val_loss: 0.7024 - val_acc: 0.8570\n",
      "Epoch 10/20\n",
      "48000/48000 [==============================] - 5s 114us/step - loss: 0.8367 - acc: 0.7713 - val_loss: 0.6471 - val_acc: 0.8624\n",
      "Epoch 11/20\n",
      "48000/48000 [==============================] - 5s 112us/step - loss: 0.7880 - acc: 0.7819 - val_loss: 0.6033 - val_acc: 0.8661\n",
      "Epoch 12/20\n",
      "48000/48000 [==============================] - 5s 112us/step - loss: 0.7490 - acc: 0.7907 - val_loss: 0.5679 - val_acc: 0.8714\n",
      "Epoch 13/20\n",
      "48000/48000 [==============================] - 6s 127us/step - loss: 0.7137 - acc: 0.7967 - val_loss: 0.5384 - val_acc: 0.8747\n",
      "Epoch 14/20\n",
      "48000/48000 [==============================] - 5s 114us/step - loss: 0.6859 - acc: 0.8054 - val_loss: 0.5137 - val_acc: 0.8786\n",
      "Epoch 15/20\n",
      "48000/48000 [==============================] - 6s 120us/step - loss: 0.6583 - acc: 0.8109 - val_loss: 0.4929 - val_acc: 0.8806\n",
      "Epoch 16/20\n",
      "48000/48000 [==============================] - 6s 121us/step - loss: 0.6391 - acc: 0.8155 - val_loss: 0.4751 - val_acc: 0.8827\n",
      "Epoch 17/20\n",
      "48000/48000 [==============================] - 5s 115us/step - loss: 0.6213 - acc: 0.8203 - val_loss: 0.4594 - val_acc: 0.8864\n",
      "Epoch 18/20\n",
      "48000/48000 [==============================] - 6s 120us/step - loss: 0.6024 - acc: 0.8254 - val_loss: 0.4457 - val_acc: 0.8890\n",
      "Epoch 19/20\n",
      "48000/48000 [==============================] - 6s 117us/step - loss: 0.5864 - acc: 0.8297 - val_loss: 0.4335 - val_acc: 0.8900\n",
      "Epoch 20/20\n",
      "48000/48000 [==============================] - 6s 123us/step - loss: 0.5741 - acc: 0.8323 - val_loss: 0.4228 - val_acc: 0.8919\n"
     ]
    }
   ],
   "source": [
    "network_history=myModel.fit(x_train,y_train,batch_size=128,epochs=20,validation_split=0.2)"
   ]
  },
  {
   "cell_type": "code",
   "execution_count": 42,
   "metadata": {},
   "outputs": [
    {
     "data": {
      "image/png": "[encoded data removed]",
      "text/plain": [
       "<Figure size 432x288 with 1 Axes>"
      ]
     },
     "metadata": {},
     "output_type": "display_data"
    },
    {
     "data": {
      "image/png": "[encoded data removed]",
      "text/plain": [
       "<Figure size 432x288 with 1 Axes>"
      ]
     },
     "metadata": {},
     "output_type": "display_data"
    }
   ],
   "source": [
    "plot_history2(network_history)"
   ]
  },
  {
   "cell_type": "markdown",
   "metadata": {},
   "source": [
    "# Evaluation"
   ]
  },
  {
   "cell_type": "code",
   "execution_count": 44,
   "metadata": {},
   "outputs": [
    {
     "name": "stdout",
     "output_type": "stream",
     "text": [
      "10000/10000 [==============================] - 1s 64us/step\n"
     ]
    }
   ],
   "source": [
    "test_loss,test_acc = myModel.evaluate(x_test,y_test)"
   ]
  },
  {
   "cell_type": "code",
   "execution_count": 45,
   "metadata": {},
   "outputs": [
    {
     "data": {
      "text/plain": [
       "0.42674644391536715"
      ]
     },
     "execution_count": 45,
     "metadata": {},
     "output_type": "execute_result"
    }
   ],
   "source": [
    "test_loss"
   ]
  },
  {
   "cell_type": "code",
   "execution_count": 46,
   "metadata": {},
   "outputs": [
    {
     "data": {
      "text/plain": [
       "0.889"
      ]
     },
     "execution_count": 46,
     "metadata": {},
     "output_type": "execute_result"
    }
   ],
   "source": [
    "test_acc"
   ]
  },
  {
   "cell_type": "code",
   "execution_count": 47,
   "metadata": {},
   "outputs": [],
   "source": [
    "test_labels_p=myModel.predict(x_test)"
   ]
  },
  {
   "cell_type": "code",
   "execution_count": 48,
   "metadata": {},
   "outputs": [
    {
     "data": {
      "text/plain": [
       "array([[7.8462623e-04, 2.0308410e-04, 5.4637017e-04, ..., 9.8453379e-01,\n",
       "        6.2162551e-04, 8.2491674e-03],\n",
       "       [6.5030284e-02, 1.6497361e-03, 7.5522935e-01, ..., 4.3782282e-05,\n",
       "        3.9721500e-02, 3.7580612e-04],\n",
       "       [1.7373220e-03, 9.0463960e-01, 2.1865347e-02, ..., 1.2080140e-02,\n",
       "        1.7113905e-02, 1.0541014e-02],\n",
       "       ...,\n",
       "       [7.1702794e-05, 2.7881266e-04, 5.2248064e-04, ..., 1.0041966e-02,\n",
       "        2.8519351e-02, 1.7292377e-01],\n",
       "       [1.3550861e-02, 4.0250126e-02, 2.5337717e-02, ..., 9.3857758e-03,\n",
       "        4.2889619e-01, 2.7321076e-02],\n",
       "       [1.3656525e-03, 8.7820390e-06, 4.8395996e-03, ..., 1.9136467e-06,\n",
       "        1.3539694e-04, 4.0298604e-05]], dtype=float32)"
      ]
     },
     "execution_count": 48,
     "metadata": {},
     "output_type": "execute_result"
    }
   ],
   "source": [
    "test_labels_p"
   ]
  },
  {
   "cell_type": "code",
   "execution_count": 49,
   "metadata": {},
   "outputs": [],
   "source": [
    "import numpy as np"
   ]
  },
  {
   "cell_type": "code",
   "execution_count": 50,
   "metadata": {},
   "outputs": [],
   "source": [
    "test_labels_p=np.argmax(test_labels_p,axis=1)"
   ]
  },
  {
   "cell_type": "code",
   "execution_count": 51,
   "metadata": {},
   "outputs": [
    {
     "data": {
      "text/plain": [
       "array([7, 2, 1, ..., 4, 8, 6], dtype=int64)"
      ]
     },
     "execution_count": 51,
     "metadata": {},
     "output_type": "execute_result"
    }
   ],
   "source": [
    "test_labels_p"
   ]
  },
  {
   "cell_type": "code",
   "execution_count": 52,
   "metadata": {},
   "outputs": [
    {
     "data": {
      "text/plain": [
       "array([7, 2, 1, ..., 4, 5, 6], dtype=uint8)"
      ]
     },
     "execution_count": 52,
     "metadata": {},
     "output_type": "execute_result"
    }
   ],
   "source": [
    "test_labels"
   ]
  },
  {
   "cell_type": "markdown",
   "metadata": {},
   "source": [
    "# change layers"
   ]
  },
  {
   "cell_type": "code",
   "execution_count": 54,
   "metadata": {},
   "outputs": [
    {
     "data": {
      "text/plain": [
       "<keras.layers.core.Dense at 0x20bd1278>"
      ]
     },
     "execution_count": 54,
     "metadata": {},
     "output_type": "execute_result"
    }
   ],
   "source": [
    "myModel.layers[0]"
   ]
  },
  {
   "cell_type": "code",
   "execution_count": 55,
   "metadata": {},
   "outputs": [],
   "source": [
    "myModel.layers[0].name = 'layer_0'"
   ]
  },
  {
   "cell_type": "code",
   "execution_count": 58,
   "metadata": {},
   "outputs": [
    {
     "name": "stdout",
     "output_type": "stream",
     "text": [
      "_________________________________________________________________\n",
      "Layer (type)                 Output Shape              Param #   \n",
      "=================================================================\n",
      "layer_0 (Dense)              (None, 500)               392500    \n",
      "_________________________________________________________________\n",
      "dropout_1 (Dropout)          (None, 500)               0         \n",
      "_________________________________________________________________\n",
      "dense_5 (Dense)              (None, 100)               50100     \n",
      "_________________________________________________________________\n",
      "dropout_2 (Dropout)          (None, 100)               0         \n",
      "_________________________________________________________________\n",
      "dense_6 (Dense)              (None, 10)                1010      \n",
      "=================================================================\n",
      "Total params: 443,610\n",
      "Trainable params: 443,610\n",
      "Non-trainable params: 0\n",
      "_________________________________________________________________\n"
     ]
    }
   ],
   "source": [
    "myModel.summary()"
   ]
  },
  {
   "cell_type": "code",
   "execution_count": 59,
   "metadata": {},
   "outputs": [],
   "source": [
    "myModel.layers[0].trainable = False"
   ]
  },
  {
   "cell_type": "code",
   "execution_count": 60,
   "metadata": {},
   "outputs": [
    {
     "name": "stdout",
     "output_type": "stream",
     "text": [
      "_________________________________________________________________\n",
      "Layer (type)                 Output Shape              Param #   \n",
      "=================================================================\n",
      "layer_0 (Dense)              (None, 500)               392500    \n",
      "_________________________________________________________________\n",
      "dropout_1 (Dropout)          (None, 500)               0         \n",
      "_________________________________________________________________\n",
      "dense_5 (Dense)              (None, 100)               50100     \n",
      "_________________________________________________________________\n",
      "dropout_2 (Dropout)          (None, 100)               0         \n",
      "_________________________________________________________________\n",
      "dense_6 (Dense)              (None, 10)                1010      \n",
      "=================================================================\n",
      "Total params: 836,110\n",
      "Trainable params: 443,610\n",
      "Non-trainable params: 392,500\n",
      "_________________________________________________________________\n"
     ]
    },
    {
     "name": "stderr",
     "output_type": "stream",
     "text": [
      "C:\\Users\\User\\Anaconda3\\lib\\site-packages\\keras\\engine\\training.py:490: UserWarning: Discrepancy between trainable weights and collected trainable weights, did you set `model.trainable` without calling `model.compile` after ?\n",
      "  'Discrepancy between trainable weights and collected trainable'\n"
     ]
    }
   ],
   "source": [
    "myModel.summary()"
   ]
  },
  {
   "cell_type": "code",
   "execution_count": 61,
   "metadata": {},
   "outputs": [
    {
     "data": {
      "text/plain": [
       "{'name': 'layer_0',\n",
       " 'trainable': False,\n",
       " 'batch_input_shape': (None, 784),\n",
       " 'dtype': 'float32',\n",
       " 'units': 500,\n",
       " 'activation': 'relu',\n",
       " 'use_bias': True,\n",
       " 'kernel_initializer': {'class_name': 'VarianceScaling',\n",
       "  'config': {'scale': 1.0,\n",
       "   'mode': 'fan_avg',\n",
       "   'distribution': 'uniform',\n",
       "   'seed': None}},\n",
       " 'bias_initializer': {'class_name': 'Zeros', 'config': {}},\n",
       " 'kernel_regularizer': None,\n",
       " 'bias_regularizer': None,\n",
       " 'activity_regularizer': None,\n",
       " 'kernel_constraint': None,\n",
       " 'bias_constraint': None}"
      ]
     },
     "execution_count": 61,
     "metadata": {},
     "output_type": "execute_result"
    }
   ],
   "source": [
    "myModel.layers[0].get_config()"
   ]
  },
  {
   "cell_type": "code",
   "execution_count": null,
   "metadata": {},
   "outputs": [],
   "source": []
  }
 ],
 "metadata": {
  "kernelspec": {
   "display_name": "Python 3",
   "language": "python",
   "name": "python3"
  },
  "language_info": {
   "codemirror_mode": {
    "name": "ipython",
    "version": 3
   },
   "file_extension": ".py",
   "mimetype": "text/x-python",
   "name": "python",
   "nbconvert_exporter": "python",
   "pygments_lexer": "ipython3",
   "version": "3.6.5"
  }
 },
 "nbformat": 4,
 "nbformat_minor": 2
}
